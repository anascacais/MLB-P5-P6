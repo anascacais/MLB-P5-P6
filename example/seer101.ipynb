{
 "cells": [
  {
   "cell_type": "markdown",
   "metadata": {},
   "source": [
    "## Seer Medical Database 101"
   ]
  },
  {
   "cell_type": "code",
   "execution_count": 1,
   "metadata": {},
   "outputs": [],
   "source": [
    "import os\n",
    "import pandas as pd\n",
    "import numpy as np"
   ]
  },
  {
   "cell_type": "markdown",
   "metadata": {},
   "source": [
    "Alter these:"
   ]
  },
  {
   "cell_type": "code",
   "execution_count": 2,
   "metadata": {},
   "outputs": [],
   "source": [
    "patient_id = 'MSEL_01763'\n",
    "modality = 'EDA'"
   ]
  },
  {
   "cell_type": "markdown",
   "metadata": {},
   "source": [
    "### The data is separated by patient and modality. Here's an example of a baseline dataframe:\n",
    "Note: in this dataframe, all the files that do not contain any seizure are concatenated"
   ]
  },
  {
   "cell_type": "code",
   "execution_count": 7,
   "metadata": {},
   "outputs": [
    {
     "data": {
      "text/html": [
       "<div>\n",
       "<style scoped>\n",
       "    .dataframe tbody tr th:only-of-type {\n",
       "        vertical-align: middle;\n",
       "    }\n",
       "\n",
       "    .dataframe tbody tr th {\n",
       "        vertical-align: top;\n",
       "    }\n",
       "\n",
       "    .dataframe thead th {\n",
       "        text-align: right;\n",
       "    }\n",
       "</style>\n",
       "<table border=\"1\" class=\"dataframe\">\n",
       "  <thead>\n",
       "    <tr style=\"text-align: right;\">\n",
       "      <th></th>\n",
       "      <th>Empatica-EDA</th>\n",
       "    </tr>\n",
       "  </thead>\n",
       "  <tbody>\n",
       "    <tr>\n",
       "      <th>2019-02-27 16:08:12.000000000</th>\n",
       "      <td>-0.453108</td>\n",
       "    </tr>\n",
       "    <tr>\n",
       "      <th>2019-02-27 16:08:12.007815105</th>\n",
       "      <td>0.447005</td>\n",
       "    </tr>\n",
       "    <tr>\n",
       "      <th>2019-02-27 16:08:12.015630210</th>\n",
       "      <td>-0.339824</td>\n",
       "    </tr>\n",
       "    <tr>\n",
       "      <th>2019-02-27 16:08:12.023445315</th>\n",
       "      <td>0.449507</td>\n",
       "    </tr>\n",
       "    <tr>\n",
       "      <th>2019-02-27 16:08:12.031260420</th>\n",
       "      <td>-0.566362</td>\n",
       "    </tr>\n",
       "    <tr>\n",
       "      <th>2019-02-27 16:08:12.039075525</th>\n",
       "      <td>0.452315</td>\n",
       "    </tr>\n",
       "    <tr>\n",
       "      <th>2019-02-27 16:08:12.046890630</th>\n",
       "      <td>-0.339824</td>\n",
       "    </tr>\n",
       "    <tr>\n",
       "      <th>2019-02-27 16:08:12.054705735</th>\n",
       "      <td>0.453413</td>\n",
       "    </tr>\n",
       "    <tr>\n",
       "      <th>2019-02-27 16:08:12.062520840</th>\n",
       "      <td>-0.396466</td>\n",
       "    </tr>\n",
       "    <tr>\n",
       "      <th>2019-02-27 16:08:12.070335945</th>\n",
       "      <td>0.454115</td>\n",
       "    </tr>\n",
       "  </tbody>\n",
       "</table>\n",
       "</div>"
      ],
      "text/plain": [
       "                               Empatica-EDA\n",
       "2019-02-27 16:08:12.000000000     -0.453108\n",
       "2019-02-27 16:08:12.007815105      0.447005\n",
       "2019-02-27 16:08:12.015630210     -0.339824\n",
       "2019-02-27 16:08:12.023445315      0.449507\n",
       "2019-02-27 16:08:12.031260420     -0.566362\n",
       "2019-02-27 16:08:12.039075525      0.452315\n",
       "2019-02-27 16:08:12.046890630     -0.339824\n",
       "2019-02-27 16:08:12.054705735      0.453413\n",
       "2019-02-27 16:08:12.062520840     -0.396466\n",
       "2019-02-27 16:08:12.070335945      0.454115"
      ]
     },
     "execution_count": 7,
     "metadata": {},
     "output_type": "execute_result"
    }
   ],
   "source": [
    "baseline_df = pd.read_pickle(f'baseline_data_Empatica-{modality}')\n",
    "baseline_df2\n"
   ]
  },
  {
   "cell_type": "markdown",
   "metadata": {},
   "source": [
    "### Again, the data is separated by patient and modality. Here's an example of a seizure dataframe:\n",
    "Note: regrading the baseline dataframe, this one has an additional column that corresponds to the seizure annotation (i.e. 0 corresponds to no seizure and i corresponds to the i-th annotated seizure)"
   ]
  },
  {
   "cell_type": "code",
   "execution_count": 17,
   "metadata": {},
   "outputs": [
    {
     "data": {
      "text/html": [
       "<div>\n",
       "<style scoped>\n",
       "    .dataframe tbody tr th:only-of-type {\n",
       "        vertical-align: middle;\n",
       "    }\n",
       "\n",
       "    .dataframe tbody tr th {\n",
       "        vertical-align: top;\n",
       "    }\n",
       "\n",
       "    .dataframe thead th {\n",
       "        text-align: right;\n",
       "    }\n",
       "</style>\n",
       "<table border=\"1\" class=\"dataframe\">\n",
       "  <thead>\n",
       "    <tr style=\"text-align: right;\">\n",
       "      <th></th>\n",
       "      <th>Empatica-EDA</th>\n",
       "      <th>sz</th>\n",
       "    </tr>\n",
       "  </thead>\n",
       "  <tbody>\n",
       "    <tr>\n",
       "      <th>2019-02-28 13:06:00.000000000</th>\n",
       "      <td>-0.726279</td>\n",
       "      <td>0.0</td>\n",
       "    </tr>\n",
       "    <tr>\n",
       "      <th>2019-02-28 13:06:00.007812516</th>\n",
       "      <td>0.492721</td>\n",
       "      <td>0.0</td>\n",
       "    </tr>\n",
       "    <tr>\n",
       "      <th>2019-02-28 13:06:00.015625033</th>\n",
       "      <td>-0.726279</td>\n",
       "      <td>0.0</td>\n",
       "    </tr>\n",
       "    <tr>\n",
       "      <th>2019-02-28 13:06:00.023437550</th>\n",
       "      <td>0.492721</td>\n",
       "      <td>0.0</td>\n",
       "    </tr>\n",
       "    <tr>\n",
       "      <th>2019-02-28 13:06:00.031250067</th>\n",
       "      <td>-0.726279</td>\n",
       "      <td>1.0</td>\n",
       "    </tr>\n",
       "    <tr>\n",
       "      <th>2019-02-28 13:06:00.039062584</th>\n",
       "      <td>0.492721</td>\n",
       "      <td>1.0</td>\n",
       "    </tr>\n",
       "    <tr>\n",
       "      <th>2019-02-28 13:06:00.046875101</th>\n",
       "      <td>-0.726279</td>\n",
       "      <td>1.0</td>\n",
       "    </tr>\n",
       "    <tr>\n",
       "      <th>2019-02-28 13:06:00.054687618</th>\n",
       "      <td>0.492721</td>\n",
       "      <td>1.0</td>\n",
       "    </tr>\n",
       "    <tr>\n",
       "      <th>2019-02-28 13:06:00.062500135</th>\n",
       "      <td>-0.726279</td>\n",
       "      <td>0.0</td>\n",
       "    </tr>\n",
       "    <tr>\n",
       "      <th>2019-02-28 13:06:00.070312652</th>\n",
       "      <td>0.492721</td>\n",
       "      <td>0.0</td>\n",
       "    </tr>\n",
       "  </tbody>\n",
       "</table>\n",
       "</div>"
      ],
      "text/plain": [
       "                               Empatica-EDA   sz\n",
       "2019-02-28 13:06:00.000000000     -0.726279  0.0\n",
       "2019-02-28 13:06:00.007812516      0.492721  0.0\n",
       "2019-02-28 13:06:00.015625033     -0.726279  0.0\n",
       "2019-02-28 13:06:00.023437550      0.492721  0.0\n",
       "2019-02-28 13:06:00.031250067     -0.726279  1.0\n",
       "2019-02-28 13:06:00.039062584      0.492721  1.0\n",
       "2019-02-28 13:06:00.046875101     -0.726279  1.0\n",
       "2019-02-28 13:06:00.054687618      0.492721  1.0\n",
       "2019-02-28 13:06:00.062500135     -0.726279  0.0\n",
       "2019-02-28 13:06:00.070312652      0.492721  0.0"
      ]
     },
     "execution_count": 17,
     "metadata": {},
     "output_type": "execute_result"
    }
   ],
   "source": [
    "seizures_df = pd.read_pickle(f'seizures_data_Empatica-{modality}')\n",
    "seizures_df"
   ]
  },
  {
   "cell_type": "code",
   "execution_count": 19,
   "metadata": {},
   "outputs": [
    {
     "name": "stdout",
     "output_type": "stream",
     "text": [
      "types of seizures recorded: [1.]\n"
     ]
    }
   ],
   "source": [
    "print(f'types of seizures recorded: {np.delete(seizures_df[\"sz\"].unique(), 0)}')"
   ]
  }
 ],
 "metadata": {
  "interpreter": {
   "hash": "e633765f37bc30bc6f87cec4becdf23475e2073f38c11c93a969792b24fe1678"
  },
  "kernelspec": {
   "display_name": "Python 3 (ipykernel)",
   "language": "python",
   "name": "python3"
  },
  "language_info": {
   "codemirror_mode": {
    "name": "ipython",
    "version": 3
   },
   "file_extension": ".py",
   "mimetype": "text/x-python",
   "name": "python",
   "nbconvert_exporter": "python",
   "pygments_lexer": "ipython3",
   "version": "3.9.7"
  }
 },
 "nbformat": 4,
 "nbformat_minor": 4
}
